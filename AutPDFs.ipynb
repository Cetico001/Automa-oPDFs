import fitz
import win32com.client
import os
from datetime import datetime
from collections import OrderedDict
import datetime

Excel = win32com.client.Dispatch("Excel.Application")
Workbook = Excel.ActiveWorkbook
Worksheet = Workbook.Worksheets[3]

data_i = Worksheet.Range("AR2").Value
data_i = str(data_i)
data_i = data_i.split(' ')[0]
periodo1 = data_i[8:10] + '-' + data_i[5:7] + '-' + data_i[:4]

used = Worksheet.UsedRange
valorf = int(used.Row + used.Rows.Count - 1)

data_f = Worksheet.Range("AR" + str(valorf)).Value
data_f = str(data_f)
data_f = data_f.split(' ')[0]
periodo2 = data_f[8:10] + '-' + data_f[5:7] + '-' + data_f[:4]

periodo=periodo1+' '+periodo2
periodo=str(periodo)
veiculo = list(range(valorf))
data_hora = list(range(valorf))
data_horaF = list(range(valorf))
viagem = list(range(valorf))
linha = list(range(valorf))
total_arq=0
y=0
for x in range(2, valorf):
    
    verificar = Worksheet.Range("BB" + str(x)).Value
    verificar2 = Worksheet.Range("AX" + str(x)).Value
    if verificar=='Viagem realizada com km abaixo do limite de 90% da extensão referencial (Art. 61, inciso IV do Decreto 18.370 de 7 de julho de 2023; Art. 7º da Portaria Nº 024/2023)' and verificar2=='':
        
        veiculo[y]=str(Worksheet.Range("K" + str(x)).Value)
        data_hora[y]=str(Worksheet.Range("AP" + str(x)).Value)
        viagem[y]=str(Worksheet.Range("W" + str(x)).Value)
        linha[y]=str(Worksheet.Range("F" + str(x)).Value)
        
        data_horaF[y]=Worksheet.Range("AT" + str(x)).Value
        tempo_em_horas = data_horaF[y] * 24
        data_horaF[y] = str(datetime.timedelta(hours=tempo_em_horas))
        hora_f = int(data_horaF[y].split(':')[0])
        
        viagem[y]=viagem[y].split('.')[0]
        veiculo[y]=veiculo[y].split('.')[0]
        data_hora[y]=data_hora[y].split('+')[0]

        if hora_f < 10:
            data_horaF[y] = data_hora[y][8:10] + '/' + data_hora[y][5:7] + '/' + data_hora[y][:4] + ' 0' + data_horaF[y]
        else:
            data_horaF[y] = data_hora[y][8:10] + '/' + data_hora[y][5:7] + '/' + data_hora[y][:4] + ' ' + data_horaF[y]
            
        data_hora[y] = data_hora[y][8:10] + '/' + data_hora[y][5:7] + '/' + data_hora[y][:4] + ' ' + data_hora[y][11:19]
        total_arq=total_arq+1
        y=y+1

diretorio = 'C:\\Users\\leandro.arruda\\Desktop\\AutomaçãoMarc\\Arquivospdfs'
total_pdfs = 0

for nome_arquivo in os.listdir(diretorio):
    if nome_arquivo.endswith('.pdf'):
        total_pdfs += 1

for z in range(0, total_arq-1):
    pdf = fitz.open(f"C:\\Users\\leandro.arruda\\Desktop\\AutomaçãoMarc\\Arquivospdfs\\exploderelatorio {periodo} {veiculo[z]}.pdf")
    total_paginas = pdf.page_count
    
 
    for pa in range(0, total_paginas-1):
        pagina=pdf[pa]
        data_Som = data_hora[z] + ' ' + data_horaF[z]
        ocorrencias = pagina.search_for(data_Som)

        if ocorrencias!=[]:
            for ocorr in ocorrencias:
                annot = pagina.add_highlight_annot(ocorr, (1, 0, 0))
                annot.update()

            nova_pasta = f"C:\\Users\\leandro.arruda\\Desktop\\AutomaçãoMarc\\dec15\\Abaixo de 90\\{linha[z]}\\{viagem[z]}"

            if not os.path.exists(nova_pasta):
                os.makedirs(nova_pasta)
                print(f"Pasta '{nova_pasta}' criada com sucesso.")
            else:
                print(f"A pasta '{nova_pasta}' já existe.")

            pdf.save(f"C:\\Users\\leandro.arruda\\Desktop\\AutomaçãoMarc\\dec15\\Abaixo de 90\\{linha[z]}\\{viagem[z]}\\exploderelatorio {viagem[z]}.pdf")
